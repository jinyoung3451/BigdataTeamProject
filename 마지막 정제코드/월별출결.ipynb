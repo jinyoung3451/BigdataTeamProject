{
 "cells": [
  {
   "cell_type": "code",
   "execution_count": 1,
   "metadata": {},
   "outputs": [
    {
     "data": {
      "text/html": [
       "<div>\n",
       "<style scoped>\n",
       "    .dataframe tbody tr th:only-of-type {\n",
       "        vertical-align: middle;\n",
       "    }\n",
       "\n",
       "    .dataframe tbody tr th {\n",
       "        vertical-align: top;\n",
       "    }\n",
       "\n",
       "    .dataframe thead th {\n",
       "        text-align: right;\n",
       "    }\n",
       "</style>\n",
       "<table border=\"1\" class=\"dataframe\">\n",
       "  <thead>\n",
       "    <tr style=\"text-align: right;\">\n",
       "      <th></th>\n",
       "      <th>구분</th>\n",
       "      <th>일자</th>\n",
       "      <th>입실시간</th>\n",
       "      <th>퇴실시간</th>\n",
       "      <th>출결상태</th>\n",
       "    </tr>\n",
       "  </thead>\n",
       "  <tbody>\n",
       "    <tr>\n",
       "      <th>0</th>\n",
       "      <td>1</td>\n",
       "      <td>2022-08-22</td>\n",
       "      <td>08:56:00</td>\n",
       "      <td>16:41:00</td>\n",
       "      <td>출석</td>\n",
       "    </tr>\n",
       "    <tr>\n",
       "      <th>1</th>\n",
       "      <td>1</td>\n",
       "      <td>2022-08-23</td>\n",
       "      <td>08:45:00</td>\n",
       "      <td>16:41:00</td>\n",
       "      <td>출석</td>\n",
       "    </tr>\n",
       "    <tr>\n",
       "      <th>2</th>\n",
       "      <td>1</td>\n",
       "      <td>2022-08-24</td>\n",
       "      <td>08:55:00</td>\n",
       "      <td>16:41:00</td>\n",
       "      <td>출석</td>\n",
       "    </tr>\n",
       "    <tr>\n",
       "      <th>3</th>\n",
       "      <td>1</td>\n",
       "      <td>2022-08-25</td>\n",
       "      <td>08:57:00</td>\n",
       "      <td>16:41:00</td>\n",
       "      <td>출석</td>\n",
       "    </tr>\n",
       "    <tr>\n",
       "      <th>4</th>\n",
       "      <td>1</td>\n",
       "      <td>2022-08-26</td>\n",
       "      <td>08:46:00</td>\n",
       "      <td>16:41:00</td>\n",
       "      <td>출석</td>\n",
       "    </tr>\n",
       "    <tr>\n",
       "      <th>...</th>\n",
       "      <td>...</td>\n",
       "      <td>...</td>\n",
       "      <td>...</td>\n",
       "      <td>...</td>\n",
       "      <td>...</td>\n",
       "    </tr>\n",
       "    <tr>\n",
       "      <th>615</th>\n",
       "      <td>5</td>\n",
       "      <td>2023-02-14</td>\n",
       "      <td>00:00:00</td>\n",
       "      <td>00:00:00</td>\n",
       "      <td>결석</td>\n",
       "    </tr>\n",
       "    <tr>\n",
       "      <th>616</th>\n",
       "      <td>5</td>\n",
       "      <td>2023-02-15</td>\n",
       "      <td>11:13:00</td>\n",
       "      <td>16:52:00</td>\n",
       "      <td>지각</td>\n",
       "    </tr>\n",
       "    <tr>\n",
       "      <th>617</th>\n",
       "      <td>5</td>\n",
       "      <td>2023-02-16</td>\n",
       "      <td>08:44:00</td>\n",
       "      <td>16:46:00</td>\n",
       "      <td>출석</td>\n",
       "    </tr>\n",
       "    <tr>\n",
       "      <th>618</th>\n",
       "      <td>5</td>\n",
       "      <td>2023-02-17</td>\n",
       "      <td>08:52:00</td>\n",
       "      <td>17:40:00</td>\n",
       "      <td>출석</td>\n",
       "    </tr>\n",
       "    <tr>\n",
       "      <th>619</th>\n",
       "      <td>5</td>\n",
       "      <td>2023-02-20</td>\n",
       "      <td>08:51:00</td>\n",
       "      <td>16:55:00</td>\n",
       "      <td>출석</td>\n",
       "    </tr>\n",
       "  </tbody>\n",
       "</table>\n",
       "<p>620 rows × 5 columns</p>\n",
       "</div>"
      ],
      "text/plain": [
       "     구분         일자      입실시간      퇴실시간 출결상태\n",
       "0     1 2022-08-22  08:56:00  16:41:00   출석\n",
       "1     1 2022-08-23  08:45:00  16:41:00   출석\n",
       "2     1 2022-08-24  08:55:00  16:41:00   출석\n",
       "3     1 2022-08-25  08:57:00  16:41:00   출석\n",
       "4     1 2022-08-26  08:46:00  16:41:00   출석\n",
       "..   ..        ...       ...       ...  ...\n",
       "615   5 2023-02-14  00:00:00  00:00:00   결석\n",
       "616   5 2023-02-15  11:13:00  16:52:00   지각\n",
       "617   5 2023-02-16  08:44:00  16:46:00   출석\n",
       "618   5 2023-02-17  08:52:00  17:40:00   출석\n",
       "619   5 2023-02-20  08:51:00  16:55:00   출석\n",
       "\n",
       "[620 rows x 5 columns]"
      ]
     },
     "execution_count": 1,
     "metadata": {},
     "output_type": "execute_result"
    }
   ],
   "source": [
    "import pandas as pd\n",
    "\n",
    "df=pd.read_excel('오리지널데이터/출결_시간형식_통합본_org.xlsx')\n",
    "df"
   ]
  },
  {
   "cell_type": "code",
   "execution_count": 2,
   "metadata": {},
   "outputs": [],
   "source": [
    "attcount=[]\n",
    "notcount=[]\n",
    "latecount=[]\n",
    "outcount=[]"
   ]
  },
  {
   "cell_type": "code",
   "execution_count": 3,
   "metadata": {},
   "outputs": [
    {
     "data": {
      "text/plain": [
       "[36]"
      ]
     },
     "execution_count": 3,
     "metadata": {},
     "output_type": "execute_result"
    }
   ],
   "source": [
    "attendance_count = df[(df['일자'].dt.month == 8) & (df['출결상태'] == '출석')]['출결상태'].count()\n",
    "attcount.append(attendance_count)\n",
    "attcount"
   ]
  },
  {
   "cell_type": "code",
   "execution_count": 4,
   "metadata": {},
   "outputs": [
    {
     "data": {
      "text/plain": [
       "[36, 81]"
      ]
     },
     "execution_count": 4,
     "metadata": {},
     "output_type": "execute_result"
    }
   ],
   "source": [
    "attendance_count = df[(df['일자'].dt.month == 9) & (df['출결상태'] == '출석')]['출결상태'].count()\n",
    "attcount.append(attendance_count)\n",
    "attcount"
   ]
  },
  {
   "cell_type": "code",
   "execution_count": 5,
   "metadata": {},
   "outputs": [
    {
     "data": {
      "text/plain": [
       "[36, 81, 78]"
      ]
     },
     "execution_count": 5,
     "metadata": {},
     "output_type": "execute_result"
    }
   ],
   "source": [
    "attendance_count = df[(df['일자'].dt.month == 10) & (df['출결상태'] == '출석')]['출결상태'].count()\n",
    "\n",
    "attcount.append(attendance_count)\n",
    "attcount"
   ]
  },
  {
   "cell_type": "code",
   "execution_count": 6,
   "metadata": {},
   "outputs": [
    {
     "data": {
      "text/plain": [
       "[36, 81, 78, 77]"
      ]
     },
     "execution_count": 6,
     "metadata": {},
     "output_type": "execute_result"
    }
   ],
   "source": [
    "attendance_count = df[(df['일자'].dt.month == 11) & (df['출결상태'] == '출석')]['출결상태'].count()\n",
    "\n",
    "attcount.append(attendance_count)\n",
    "attcount\n"
   ]
  },
  {
   "cell_type": "code",
   "execution_count": 7,
   "metadata": {},
   "outputs": [
    {
     "data": {
      "text/plain": [
       "[36, 81, 78, 77, 82]"
      ]
     },
     "execution_count": 7,
     "metadata": {},
     "output_type": "execute_result"
    }
   ],
   "source": [
    "attendance_count = df[(df['일자'].dt.month == 12) & (df['출결상태'] == '출석')]['출결상태'].count()\n",
    "\n",
    "attcount.append(attendance_count)\n",
    "attcount\n"
   ]
  },
  {
   "cell_type": "code",
   "execution_count": 8,
   "metadata": {},
   "outputs": [
    {
     "data": {
      "text/plain": [
       "[36, 81, 78, 77, 82, 68]"
      ]
     },
     "execution_count": 8,
     "metadata": {},
     "output_type": "execute_result"
    }
   ],
   "source": [
    "attendance_count = df[(df['일자'].dt.month == 1) & (df['출결상태'] == '출석')]['출결상태'].count()\n",
    "\n",
    "attcount.append(attendance_count)\n",
    "attcount"
   ]
  },
  {
   "cell_type": "code",
   "execution_count": 9,
   "metadata": {},
   "outputs": [
    {
     "data": {
      "text/plain": [
       "[36, 81, 78, 77, 82, 68, 43]"
      ]
     },
     "execution_count": 9,
     "metadata": {},
     "output_type": "execute_result"
    }
   ],
   "source": [
    "attendance_count = df[(df['일자'].dt.month == 2) & (df['출결상태'] == '출석')]['출결상태'].count()\n",
    "\n",
    "attcount.append(attendance_count)\n",
    "attcount"
   ]
  },
  {
   "cell_type": "code",
   "execution_count": 10,
   "metadata": {},
   "outputs": [
    {
     "data": {
      "text/plain": [
       "[36, 81, 78, 77, 82, 68, 43, 465]"
      ]
     },
     "execution_count": 10,
     "metadata": {},
     "output_type": "execute_result"
    }
   ],
   "source": [
    "total = sum(attcount)\n",
    "\n",
    "attcount.append(total)\n",
    "attcount"
   ]
  },
  {
   "cell_type": "code",
   "execution_count": 11,
   "metadata": {},
   "outputs": [
    {
     "data": {
      "text/plain": [
       "[1]"
      ]
     },
     "execution_count": 11,
     "metadata": {},
     "output_type": "execute_result"
    }
   ],
   "source": [
    "not_count = df[(df['일자'].dt.month == 8) & (df['출결상태'] == '결석')]['출결상태'].count()\n",
    "\n",
    "notcount.append(not_count)\n",
    "notcount"
   ]
  },
  {
   "cell_type": "code",
   "execution_count": 12,
   "metadata": {},
   "outputs": [
    {
     "data": {
      "text/plain": [
       "[1, 4]"
      ]
     },
     "execution_count": 12,
     "metadata": {},
     "output_type": "execute_result"
    }
   ],
   "source": [
    "not_count = df[(df['일자'].dt.month == 9) & (df['출결상태'] == '결석')]['출결상태'].count()\n",
    "\n",
    "notcount.append(not_count)\n",
    "notcount"
   ]
  },
  {
   "cell_type": "code",
   "execution_count": 13,
   "metadata": {},
   "outputs": [
    {
     "data": {
      "text/plain": [
       "[1, 4, 3]"
      ]
     },
     "execution_count": 13,
     "metadata": {},
     "output_type": "execute_result"
    }
   ],
   "source": [
    "not_count = df[(df['일자'].dt.month == 10) & (df['출결상태'] == '결석')]['출결상태'].count()\n",
    "\n",
    "notcount.append(not_count)\n",
    "notcount"
   ]
  },
  {
   "cell_type": "code",
   "execution_count": 14,
   "metadata": {},
   "outputs": [
    {
     "data": {
      "text/plain": [
       "[1, 4, 3, 11]"
      ]
     },
     "execution_count": 14,
     "metadata": {},
     "output_type": "execute_result"
    }
   ],
   "source": [
    "not_count = df[(df['일자'].dt.month == 11) & (df['출결상태'] == '결석')]['출결상태'].count()\n",
    "\n",
    "notcount.append(not_count)\n",
    "notcount"
   ]
  },
  {
   "cell_type": "code",
   "execution_count": 15,
   "metadata": {},
   "outputs": [
    {
     "data": {
      "text/plain": [
       "[1, 4, 3, 11, 17]"
      ]
     },
     "execution_count": 15,
     "metadata": {},
     "output_type": "execute_result"
    }
   ],
   "source": [
    "not_count = df[(df['일자'].dt.month == 12) & (df['출결상태'] == '결석')]['출결상태'].count()\n",
    "\n",
    "notcount.append(not_count)\n",
    "notcount"
   ]
  },
  {
   "cell_type": "code",
   "execution_count": 16,
   "metadata": {},
   "outputs": [
    {
     "data": {
      "text/plain": [
       "[1, 4, 3, 11, 17, 14]"
      ]
     },
     "execution_count": 16,
     "metadata": {},
     "output_type": "execute_result"
    }
   ],
   "source": [
    "not_count = df[(df['일자'].dt.month == 1) & (df['출결상태'] == '결석')]['출결상태'].count()\n",
    "\n",
    "notcount.append(not_count)\n",
    "notcount"
   ]
  },
  {
   "cell_type": "code",
   "execution_count": 17,
   "metadata": {},
   "outputs": [
    {
     "data": {
      "text/plain": [
       "[1, 4, 3, 11, 17, 14, 13]"
      ]
     },
     "execution_count": 17,
     "metadata": {},
     "output_type": "execute_result"
    }
   ],
   "source": [
    "not_count = df[(df['일자'].dt.month == 2) & (df['출결상태'] == '결석')]['출결상태'].count()\n",
    "\n",
    "notcount.append(not_count)\n",
    "notcount"
   ]
  },
  {
   "cell_type": "code",
   "execution_count": 18,
   "metadata": {},
   "outputs": [
    {
     "data": {
      "text/plain": [
       "[1, 4, 3, 11, 17, 14, 13, 63]"
      ]
     },
     "execution_count": 18,
     "metadata": {},
     "output_type": "execute_result"
    }
   ],
   "source": [
    "total = sum(notcount)\n",
    "\n",
    "notcount.append(total)\n",
    "notcount"
   ]
  },
  {
   "cell_type": "code",
   "execution_count": 19,
   "metadata": {},
   "outputs": [
    {
     "data": {
      "text/plain": [
       "[3]"
      ]
     },
     "execution_count": 19,
     "metadata": {},
     "output_type": "execute_result"
    }
   ],
   "source": [
    "late_count= df[(df['일자'].dt.month == 8) & (df['출결상태'] == '지각')]['출결상태'].count()\n",
    "latecount.append(late_count)\n",
    "latecount"
   ]
  },
  {
   "cell_type": "code",
   "execution_count": 20,
   "metadata": {},
   "outputs": [
    {
     "data": {
      "text/plain": [
       "[3, 2]"
      ]
     },
     "execution_count": 20,
     "metadata": {},
     "output_type": "execute_result"
    }
   ],
   "source": [
    "late_count= df[(df['일자'].dt.month == 9) & (df['출결상태'] == '지각')]['출결상태'].count()\n",
    "latecount.append(late_count)\n",
    "latecount"
   ]
  },
  {
   "cell_type": "code",
   "execution_count": 21,
   "metadata": {},
   "outputs": [
    {
     "data": {
      "text/plain": [
       "[3, 2, 4]"
      ]
     },
     "execution_count": 21,
     "metadata": {},
     "output_type": "execute_result"
    }
   ],
   "source": [
    "late_count= df[(df['일자'].dt.month == 10) & (df['출결상태'] == '지각')]['출결상태'].count()\n",
    "latecount.append(late_count)\n",
    "latecount"
   ]
  },
  {
   "cell_type": "code",
   "execution_count": 22,
   "metadata": {},
   "outputs": [
    {
     "data": {
      "text/plain": [
       "[3, 2, 4, 4]"
      ]
     },
     "execution_count": 22,
     "metadata": {},
     "output_type": "execute_result"
    }
   ],
   "source": [
    "late_count= df[(df['일자'].dt.month == 11) & (df['출결상태'] == '지각')]['출결상태'].count()\n",
    "latecount.append(late_count)\n",
    "latecount"
   ]
  },
  {
   "cell_type": "code",
   "execution_count": 23,
   "metadata": {},
   "outputs": [
    {
     "data": {
      "text/plain": [
       "[3, 2, 4, 4, 4]"
      ]
     },
     "execution_count": 23,
     "metadata": {},
     "output_type": "execute_result"
    }
   ],
   "source": [
    "late_count= df[(df['일자'].dt.month == 12) & (df['출결상태'] == '지각')]['출결상태'].count()\n",
    "latecount.append(late_count)\n",
    "latecount"
   ]
  },
  {
   "cell_type": "code",
   "execution_count": 24,
   "metadata": {},
   "outputs": [
    {
     "data": {
      "text/plain": [
       "[3, 2, 4, 4, 4, 8]"
      ]
     },
     "execution_count": 24,
     "metadata": {},
     "output_type": "execute_result"
    }
   ],
   "source": [
    "late_count= df[(df['일자'].dt.month == 1) & (df['출결상태'] == '지각')]['출결상태'].count()\n",
    "latecount.append(late_count)\n",
    "latecount"
   ]
  },
  {
   "cell_type": "code",
   "execution_count": 25,
   "metadata": {},
   "outputs": [
    {
     "data": {
      "text/plain": [
       "[3, 2, 4, 4, 4, 8, 6]"
      ]
     },
     "execution_count": 25,
     "metadata": {},
     "output_type": "execute_result"
    }
   ],
   "source": [
    "late_count= df[(df['일자'].dt.month == 2) & (df['출결상태'] == '지각')]['출결상태'].count()\n",
    "latecount.append(late_count)\n",
    "latecount"
   ]
  },
  {
   "cell_type": "code",
   "execution_count": 26,
   "metadata": {},
   "outputs": [
    {
     "data": {
      "text/plain": [
       "[3, 2, 4, 4, 4, 8, 6, 31]"
      ]
     },
     "execution_count": 26,
     "metadata": {},
     "output_type": "execute_result"
    }
   ],
   "source": [
    "total = sum(latecount)\n",
    "\n",
    "latecount.append(total)\n",
    "latecount"
   ]
  },
  {
   "cell_type": "code",
   "execution_count": 27,
   "metadata": {},
   "outputs": [
    {
     "data": {
      "text/plain": [
       "[0]"
      ]
     },
     "execution_count": 27,
     "metadata": {},
     "output_type": "execute_result"
    }
   ],
   "source": [
    "out_count=df[(df['일자'].dt.month == 8) & (df['출결상태'] == '조퇴')]['출결상태'].count()\n",
    "outcount.append(out_count)\n",
    "outcount"
   ]
  },
  {
   "cell_type": "code",
   "execution_count": 28,
   "metadata": {},
   "outputs": [
    {
     "data": {
      "text/plain": [
       "[0, 7]"
      ]
     },
     "execution_count": 28,
     "metadata": {},
     "output_type": "execute_result"
    }
   ],
   "source": [
    "out_count=df[(df['일자'].dt.month == 9) & (df['출결상태'] == '조퇴')]['출결상태'].count()\n",
    "outcount.append(out_count)\n",
    "outcount"
   ]
  },
  {
   "cell_type": "code",
   "execution_count": 29,
   "metadata": {},
   "outputs": [
    {
     "data": {
      "text/plain": [
       "[0, 7, 10]"
      ]
     },
     "execution_count": 29,
     "metadata": {},
     "output_type": "execute_result"
    }
   ],
   "source": [
    "out_count=df[(df['일자'].dt.month == 10) & (df['출결상태'] == '조퇴')]['출결상태'].count()\n",
    "outcount.append(out_count)\n",
    "outcount"
   ]
  },
  {
   "cell_type": "code",
   "execution_count": 30,
   "metadata": {},
   "outputs": [
    {
     "data": {
      "text/plain": [
       "[0, 7, 10, 17]"
      ]
     },
     "execution_count": 30,
     "metadata": {},
     "output_type": "execute_result"
    }
   ],
   "source": [
    "out_count=df[(df['일자'].dt.month == 11) & (df['출결상태'] == '조퇴')]['출결상태'].count()\n",
    "outcount.append(out_count)\n",
    "outcount"
   ]
  },
  {
   "cell_type": "code",
   "execution_count": 31,
   "metadata": {},
   "outputs": [
    {
     "data": {
      "text/plain": [
       "[0, 7, 10, 17, 7]"
      ]
     },
     "execution_count": 31,
     "metadata": {},
     "output_type": "execute_result"
    }
   ],
   "source": [
    "out_count=df[(df['일자'].dt.month == 12) & (df['출결상태'] == '조퇴')]['출결상태'].count()\n",
    "outcount.append(out_count)\n",
    "outcount"
   ]
  },
  {
   "cell_type": "code",
   "execution_count": 32,
   "metadata": {},
   "outputs": [
    {
     "data": {
      "text/plain": [
       "[0, 7, 10, 17, 7, 9]"
      ]
     },
     "execution_count": 32,
     "metadata": {},
     "output_type": "execute_result"
    }
   ],
   "source": [
    "out_count=df[(df['일자'].dt.month == 1) & (df['출결상태'] == '조퇴')]['출결상태'].count()\n",
    "outcount.append(out_count)\n",
    "outcount"
   ]
  },
  {
   "cell_type": "code",
   "execution_count": 33,
   "metadata": {},
   "outputs": [
    {
     "data": {
      "text/plain": [
       "[0, 7, 10, 17, 7, 9, 8]"
      ]
     },
     "execution_count": 33,
     "metadata": {},
     "output_type": "execute_result"
    }
   ],
   "source": [
    "out_count=df[(df['일자'].dt.month == 2) & (df['출결상태'] == '조퇴')]['출결상태'].count()\n",
    "outcount.append(out_count)\n",
    "outcount"
   ]
  },
  {
   "cell_type": "code",
   "execution_count": 34,
   "metadata": {},
   "outputs": [
    {
     "data": {
      "text/plain": [
       "[0, 7, 10, 17, 7, 9, 8, 58]"
      ]
     },
     "execution_count": 34,
     "metadata": {},
     "output_type": "execute_result"
    }
   ],
   "source": [
    "total = sum(outcount)\n",
    "\n",
    "outcount.append(total)\n",
    "outcount"
   ]
  },
  {
   "cell_type": "code",
   "execution_count": 35,
   "metadata": {},
   "outputs": [],
   "source": [
    "excount=[]"
   ]
  },
  {
   "cell_type": "code",
   "execution_count": 36,
   "metadata": {},
   "outputs": [
    {
     "data": {
      "text/plain": [
       "[0]"
      ]
     },
     "execution_count": 36,
     "metadata": {},
     "output_type": "execute_result"
    }
   ],
   "source": [
    "ex_count=df[(df['일자'].dt.month == 8) & (df['출결상태'] == '지각&조퇴')]['출결상태'].count()\n",
    "excount.append(ex_count)\n",
    "excount"
   ]
  },
  {
   "cell_type": "code",
   "execution_count": 37,
   "metadata": {},
   "outputs": [
    {
     "data": {
      "text/plain": [
       "[0, 1]"
      ]
     },
     "execution_count": 37,
     "metadata": {},
     "output_type": "execute_result"
    }
   ],
   "source": [
    "ex_count=df[(df['일자'].dt.month == 9) & (df['출결상태'] == '지각&조퇴')]['출결상태'].count()\n",
    "excount.append(ex_count)\n",
    "excount"
   ]
  },
  {
   "cell_type": "code",
   "execution_count": 38,
   "metadata": {},
   "outputs": [
    {
     "data": {
      "text/plain": [
       "[0, 1, 0]"
      ]
     },
     "execution_count": 38,
     "metadata": {},
     "output_type": "execute_result"
    }
   ],
   "source": [
    "ex_count=df[(df['일자'].dt.month == 10) & (df['출결상태'] == '지각&조퇴')]['출결상태'].count()\n",
    "excount.append(ex_count)\n",
    "excount"
   ]
  },
  {
   "cell_type": "code",
   "execution_count": 39,
   "metadata": {},
   "outputs": [
    {
     "data": {
      "text/plain": [
       "[0, 1, 0, 1]"
      ]
     },
     "execution_count": 39,
     "metadata": {},
     "output_type": "execute_result"
    }
   ],
   "source": [
    "ex_count=df[(df['일자'].dt.month == 11) & (df['출결상태'] == '지각&조퇴')]['출결상태'].count()\n",
    "excount.append(ex_count)\n",
    "excount"
   ]
  },
  {
   "cell_type": "code",
   "execution_count": 40,
   "metadata": {},
   "outputs": [
    {
     "data": {
      "text/plain": [
       "[0, 1, 0, 1, 0]"
      ]
     },
     "execution_count": 40,
     "metadata": {},
     "output_type": "execute_result"
    }
   ],
   "source": [
    "ex_count=df[(df['일자'].dt.month == 12) & (df['출결상태'] == '지각&조퇴')]['출결상태'].count()\n",
    "excount.append(ex_count)\n",
    "excount"
   ]
  },
  {
   "cell_type": "code",
   "execution_count": 41,
   "metadata": {},
   "outputs": [
    {
     "data": {
      "text/plain": [
       "[0, 1, 0, 1, 0, 1]"
      ]
     },
     "execution_count": 41,
     "metadata": {},
     "output_type": "execute_result"
    }
   ],
   "source": [
    "ex_count=df[(df['일자'].dt.month == 1) & (df['출결상태'] == '지각&조퇴')]['출결상태'].count()\n",
    "excount.append(ex_count)\n",
    "excount"
   ]
  },
  {
   "cell_type": "code",
   "execution_count": 42,
   "metadata": {},
   "outputs": [
    {
     "data": {
      "text/plain": [
       "[0, 1, 0, 1, 0, 1, 0]"
      ]
     },
     "execution_count": 42,
     "metadata": {},
     "output_type": "execute_result"
    }
   ],
   "source": [
    "ex_count=df[(df['일자'].dt.month == 2) & (df['출결상태'] == '지각&조퇴')]['출결상태'].count()\n",
    "excount.append(ex_count)\n",
    "excount"
   ]
  },
  {
   "cell_type": "code",
   "execution_count": 43,
   "metadata": {},
   "outputs": [
    {
     "data": {
      "text/plain": [
       "[0, 1, 0, 1, 0, 1, 0, 3]"
      ]
     },
     "execution_count": 43,
     "metadata": {},
     "output_type": "execute_result"
    }
   ],
   "source": [
    "total = sum(excount)\n",
    "\n",
    "excount.append(total)\n",
    "excount"
   ]
  },
  {
   "cell_type": "code",
   "execution_count": 44,
   "metadata": {},
   "outputs": [],
   "source": [
    "months=['8월','9월','10월','11월','12월','1월','2월','총합']"
   ]
  },
  {
   "cell_type": "code",
   "execution_count": 45,
   "metadata": {},
   "outputs": [
    {
     "data": {
      "text/html": [
       "<div>\n",
       "<style scoped>\n",
       "    .dataframe tbody tr th:only-of-type {\n",
       "        vertical-align: middle;\n",
       "    }\n",
       "\n",
       "    .dataframe tbody tr th {\n",
       "        vertical-align: top;\n",
       "    }\n",
       "\n",
       "    .dataframe thead th {\n",
       "        text-align: right;\n",
       "    }\n",
       "</style>\n",
       "<table border=\"1\" class=\"dataframe\">\n",
       "  <thead>\n",
       "    <tr style=\"text-align: right;\">\n",
       "      <th></th>\n",
       "      <th>월별</th>\n",
       "      <th>출석</th>\n",
       "      <th>결석</th>\n",
       "      <th>지각</th>\n",
       "      <th>조퇴</th>\n",
       "      <th>지각&amp;조퇴</th>\n",
       "    </tr>\n",
       "  </thead>\n",
       "  <tbody>\n",
       "    <tr>\n",
       "      <th>0</th>\n",
       "      <td>8월</td>\n",
       "      <td>36</td>\n",
       "      <td>1</td>\n",
       "      <td>3</td>\n",
       "      <td>0</td>\n",
       "      <td>0</td>\n",
       "    </tr>\n",
       "    <tr>\n",
       "      <th>1</th>\n",
       "      <td>9월</td>\n",
       "      <td>81</td>\n",
       "      <td>4</td>\n",
       "      <td>2</td>\n",
       "      <td>7</td>\n",
       "      <td>1</td>\n",
       "    </tr>\n",
       "    <tr>\n",
       "      <th>2</th>\n",
       "      <td>10월</td>\n",
       "      <td>78</td>\n",
       "      <td>3</td>\n",
       "      <td>4</td>\n",
       "      <td>10</td>\n",
       "      <td>0</td>\n",
       "    </tr>\n",
       "    <tr>\n",
       "      <th>3</th>\n",
       "      <td>11월</td>\n",
       "      <td>77</td>\n",
       "      <td>11</td>\n",
       "      <td>4</td>\n",
       "      <td>17</td>\n",
       "      <td>1</td>\n",
       "    </tr>\n",
       "    <tr>\n",
       "      <th>4</th>\n",
       "      <td>12월</td>\n",
       "      <td>82</td>\n",
       "      <td>17</td>\n",
       "      <td>4</td>\n",
       "      <td>7</td>\n",
       "      <td>0</td>\n",
       "    </tr>\n",
       "    <tr>\n",
       "      <th>5</th>\n",
       "      <td>1월</td>\n",
       "      <td>68</td>\n",
       "      <td>14</td>\n",
       "      <td>8</td>\n",
       "      <td>9</td>\n",
       "      <td>1</td>\n",
       "    </tr>\n",
       "    <tr>\n",
       "      <th>6</th>\n",
       "      <td>2월</td>\n",
       "      <td>43</td>\n",
       "      <td>13</td>\n",
       "      <td>6</td>\n",
       "      <td>8</td>\n",
       "      <td>0</td>\n",
       "    </tr>\n",
       "    <tr>\n",
       "      <th>7</th>\n",
       "      <td>총합</td>\n",
       "      <td>465</td>\n",
       "      <td>63</td>\n",
       "      <td>31</td>\n",
       "      <td>58</td>\n",
       "      <td>3</td>\n",
       "    </tr>\n",
       "  </tbody>\n",
       "</table>\n",
       "</div>"
      ],
      "text/plain": [
       "    월별   출석  결석  지각  조퇴  지각&조퇴\n",
       "0   8월   36   1   3   0      0\n",
       "1   9월   81   4   2   7      1\n",
       "2  10월   78   3   4  10      0\n",
       "3  11월   77  11   4  17      1\n",
       "4  12월   82  17   4   7      0\n",
       "5   1월   68  14   8   9      1\n",
       "6   2월   43  13   6   8      0\n",
       "7   총합  465  63  31  58      3"
      ]
     },
     "execution_count": 45,
     "metadata": {},
     "output_type": "execute_result"
    }
   ],
   "source": [
    "all_df = pd.DataFrame({\n",
    "    '월별': months,\n",
    "    '출석': attcount,\n",
    "    '결석': notcount,\n",
    "    '지각': latecount,\n",
    "    '조퇴': outcount,\n",
    "    '지각&조퇴': excount\n",
    "    \n",
    "    \n",
    "})\n",
    "\n",
    "all_df"
   ]
  },
  {
   "cell_type": "code",
   "execution_count": 46,
   "metadata": {},
   "outputs": [],
   "source": [
    "attendanceprob = []"
   ]
  },
  {
   "cell_type": "code",
   "execution_count": 47,
   "metadata": {},
   "outputs": [],
   "source": [
    "#출석률 구하기\n",
    "\n",
    "for i in range(len(all_df)): #데이터 크기만큼 지정\n",
    "    data = all_df.iloc[i] # 데이터의 row크기\n",
    "    attendance = data['출석'] \n",
    "    total = data['출석'] + data['결석'] + data['지각'] + data['조퇴'] + data['지각&조퇴']\n",
    "    attendance_prob = attendance / total\n",
    "    attendanceprob.append(attendance_prob)"
   ]
  },
  {
   "cell_type": "code",
   "execution_count": 48,
   "metadata": {},
   "outputs": [
    {
     "data": {
      "text/plain": [
       "[0.9,\n",
       " 0.8526315789473684,\n",
       " 0.8210526315789474,\n",
       " 0.7,\n",
       " 0.7454545454545455,\n",
       " 0.68,\n",
       " 0.6142857142857143,\n",
       " 0.75]"
      ]
     },
     "execution_count": 48,
     "metadata": {},
     "output_type": "execute_result"
    }
   ],
   "source": [
    "\n",
    "attendanceprob"
   ]
  },
  {
   "cell_type": "code",
   "execution_count": 49,
   "metadata": {},
   "outputs": [
    {
     "data": {
      "text/html": [
       "<div>\n",
       "<style scoped>\n",
       "    .dataframe tbody tr th:only-of-type {\n",
       "        vertical-align: middle;\n",
       "    }\n",
       "\n",
       "    .dataframe tbody tr th {\n",
       "        vertical-align: top;\n",
       "    }\n",
       "\n",
       "    .dataframe thead th {\n",
       "        text-align: right;\n",
       "    }\n",
       "</style>\n",
       "<table border=\"1\" class=\"dataframe\">\n",
       "  <thead>\n",
       "    <tr style=\"text-align: right;\">\n",
       "      <th></th>\n",
       "      <th>월별</th>\n",
       "      <th>출석</th>\n",
       "      <th>결석</th>\n",
       "      <th>지각</th>\n",
       "      <th>조퇴</th>\n",
       "      <th>지각&amp;조퇴</th>\n",
       "      <th>출석률</th>\n",
       "    </tr>\n",
       "  </thead>\n",
       "  <tbody>\n",
       "    <tr>\n",
       "      <th>0</th>\n",
       "      <td>8월</td>\n",
       "      <td>36</td>\n",
       "      <td>1</td>\n",
       "      <td>3</td>\n",
       "      <td>0</td>\n",
       "      <td>0</td>\n",
       "      <td>0.900000</td>\n",
       "    </tr>\n",
       "    <tr>\n",
       "      <th>1</th>\n",
       "      <td>9월</td>\n",
       "      <td>81</td>\n",
       "      <td>4</td>\n",
       "      <td>2</td>\n",
       "      <td>7</td>\n",
       "      <td>1</td>\n",
       "      <td>0.852632</td>\n",
       "    </tr>\n",
       "    <tr>\n",
       "      <th>2</th>\n",
       "      <td>10월</td>\n",
       "      <td>78</td>\n",
       "      <td>3</td>\n",
       "      <td>4</td>\n",
       "      <td>10</td>\n",
       "      <td>0</td>\n",
       "      <td>0.821053</td>\n",
       "    </tr>\n",
       "    <tr>\n",
       "      <th>3</th>\n",
       "      <td>11월</td>\n",
       "      <td>77</td>\n",
       "      <td>11</td>\n",
       "      <td>4</td>\n",
       "      <td>17</td>\n",
       "      <td>1</td>\n",
       "      <td>0.700000</td>\n",
       "    </tr>\n",
       "    <tr>\n",
       "      <th>4</th>\n",
       "      <td>12월</td>\n",
       "      <td>82</td>\n",
       "      <td>17</td>\n",
       "      <td>4</td>\n",
       "      <td>7</td>\n",
       "      <td>0</td>\n",
       "      <td>0.745455</td>\n",
       "    </tr>\n",
       "    <tr>\n",
       "      <th>5</th>\n",
       "      <td>1월</td>\n",
       "      <td>68</td>\n",
       "      <td>14</td>\n",
       "      <td>8</td>\n",
       "      <td>9</td>\n",
       "      <td>1</td>\n",
       "      <td>0.680000</td>\n",
       "    </tr>\n",
       "    <tr>\n",
       "      <th>6</th>\n",
       "      <td>2월</td>\n",
       "      <td>43</td>\n",
       "      <td>13</td>\n",
       "      <td>6</td>\n",
       "      <td>8</td>\n",
       "      <td>0</td>\n",
       "      <td>0.614286</td>\n",
       "    </tr>\n",
       "    <tr>\n",
       "      <th>7</th>\n",
       "      <td>총합</td>\n",
       "      <td>465</td>\n",
       "      <td>63</td>\n",
       "      <td>31</td>\n",
       "      <td>58</td>\n",
       "      <td>3</td>\n",
       "      <td>0.750000</td>\n",
       "    </tr>\n",
       "  </tbody>\n",
       "</table>\n",
       "</div>"
      ],
      "text/plain": [
       "    월별   출석  결석  지각  조퇴  지각&조퇴       출석률\n",
       "0   8월   36   1   3   0      0  0.900000\n",
       "1   9월   81   4   2   7      1  0.852632\n",
       "2  10월   78   3   4  10      0  0.821053\n",
       "3  11월   77  11   4  17      1  0.700000\n",
       "4  12월   82  17   4   7      0  0.745455\n",
       "5   1월   68  14   8   9      1  0.680000\n",
       "6   2월   43  13   6   8      0  0.614286\n",
       "7   총합  465  63  31  58      3  0.750000"
      ]
     },
     "execution_count": 49,
     "metadata": {},
     "output_type": "execute_result"
    }
   ],
   "source": [
    "all_df = pd.DataFrame({\n",
    "    '월별': months,\n",
    "    '출석': attcount,\n",
    "    '결석': notcount,\n",
    "    '지각': latecount,\n",
    "    '조퇴': outcount,\n",
    "    '지각&조퇴': excount,\n",
    "    '출석률': attendanceprob\n",
    "    \n",
    "})\n",
    "\n",
    "all_df"
   ]
  },
  {
   "cell_type": "code",
   "execution_count": 50,
   "metadata": {},
   "outputs": [
    {
     "data": {
      "text/plain": [
       "40"
      ]
     },
     "execution_count": 50,
     "metadata": {},
     "output_type": "execute_result"
    }
   ],
   "source": [
    "aug_sum = all_df.loc[all_df['월별'] == '8월', ['출석', '결석', '지각', '조퇴', '지각&조퇴']].sum().sum()\n",
    "\n",
    "aug_sum"
   ]
  },
  {
   "cell_type": "code",
   "execution_count": 51,
   "metadata": {},
   "outputs": [
    {
     "name": "stdout",
     "output_type": "stream",
     "text": [
      "각 월별 합계 리스트:  [40, 95, 95, 110, 110, 100, 70]\n"
     ]
    }
   ],
   "source": [
    "# 데이터 프레임에서 8월~2월까지 해당하는 행들만 추출\n",
    "df_month = all_df.loc[:6]\n",
    "\n",
    "# 각 월별 출석, 결석, 지각, 조퇴, 지각&조퇴의 합계 계산하여 리스트에 담기\n",
    "sum_list = []\n",
    "for i in range(len(df_month)):\n",
    "    row_sum = df_month.loc[i, ['출석', '결석', '지각', '조퇴', '지각&조퇴']].sum()\n",
    "    sum_list.append(row_sum)\n",
    "\n",
    "# 결과 출력\n",
    "print(\"각 월별 합계 리스트: \", sum_list)"
   ]
  },
  {
   "cell_type": "code",
   "execution_count": 52,
   "metadata": {},
   "outputs": [
    {
     "data": {
      "text/plain": [
       "[40, 95, 95, 110, 110, 100, 70, 620]"
      ]
     },
     "execution_count": 52,
     "metadata": {},
     "output_type": "execute_result"
    }
   ],
   "source": [
    "total = sum(sum_list)\n",
    "\n",
    "sum_list.append(total)\n",
    "sum_list"
   ]
  },
  {
   "cell_type": "code",
   "execution_count": 53,
   "metadata": {},
   "outputs": [
    {
     "data": {
      "text/html": [
       "<div>\n",
       "<style scoped>\n",
       "    .dataframe tbody tr th:only-of-type {\n",
       "        vertical-align: middle;\n",
       "    }\n",
       "\n",
       "    .dataframe tbody tr th {\n",
       "        vertical-align: top;\n",
       "    }\n",
       "\n",
       "    .dataframe thead th {\n",
       "        text-align: right;\n",
       "    }\n",
       "</style>\n",
       "<table border=\"1\" class=\"dataframe\">\n",
       "  <thead>\n",
       "    <tr style=\"text-align: right;\">\n",
       "      <th></th>\n",
       "      <th>월</th>\n",
       "      <th>출석</th>\n",
       "      <th>결석</th>\n",
       "      <th>지각</th>\n",
       "      <th>조퇴</th>\n",
       "      <th>지각&amp;조퇴</th>\n",
       "      <th>출결총합</th>\n",
       "      <th>출석률</th>\n",
       "    </tr>\n",
       "  </thead>\n",
       "  <tbody>\n",
       "    <tr>\n",
       "      <th>0</th>\n",
       "      <td>8월</td>\n",
       "      <td>36</td>\n",
       "      <td>1</td>\n",
       "      <td>3</td>\n",
       "      <td>0</td>\n",
       "      <td>0</td>\n",
       "      <td>40</td>\n",
       "      <td>0.900000</td>\n",
       "    </tr>\n",
       "    <tr>\n",
       "      <th>1</th>\n",
       "      <td>9월</td>\n",
       "      <td>81</td>\n",
       "      <td>4</td>\n",
       "      <td>2</td>\n",
       "      <td>7</td>\n",
       "      <td>1</td>\n",
       "      <td>95</td>\n",
       "      <td>0.852632</td>\n",
       "    </tr>\n",
       "    <tr>\n",
       "      <th>2</th>\n",
       "      <td>10월</td>\n",
       "      <td>78</td>\n",
       "      <td>3</td>\n",
       "      <td>4</td>\n",
       "      <td>10</td>\n",
       "      <td>0</td>\n",
       "      <td>95</td>\n",
       "      <td>0.821053</td>\n",
       "    </tr>\n",
       "    <tr>\n",
       "      <th>3</th>\n",
       "      <td>11월</td>\n",
       "      <td>77</td>\n",
       "      <td>11</td>\n",
       "      <td>4</td>\n",
       "      <td>17</td>\n",
       "      <td>1</td>\n",
       "      <td>110</td>\n",
       "      <td>0.700000</td>\n",
       "    </tr>\n",
       "    <tr>\n",
       "      <th>4</th>\n",
       "      <td>12월</td>\n",
       "      <td>82</td>\n",
       "      <td>17</td>\n",
       "      <td>4</td>\n",
       "      <td>7</td>\n",
       "      <td>0</td>\n",
       "      <td>110</td>\n",
       "      <td>0.745455</td>\n",
       "    </tr>\n",
       "    <tr>\n",
       "      <th>5</th>\n",
       "      <td>1월</td>\n",
       "      <td>68</td>\n",
       "      <td>14</td>\n",
       "      <td>8</td>\n",
       "      <td>9</td>\n",
       "      <td>1</td>\n",
       "      <td>100</td>\n",
       "      <td>0.680000</td>\n",
       "    </tr>\n",
       "    <tr>\n",
       "      <th>6</th>\n",
       "      <td>2월</td>\n",
       "      <td>43</td>\n",
       "      <td>13</td>\n",
       "      <td>6</td>\n",
       "      <td>8</td>\n",
       "      <td>0</td>\n",
       "      <td>70</td>\n",
       "      <td>0.614286</td>\n",
       "    </tr>\n",
       "    <tr>\n",
       "      <th>7</th>\n",
       "      <td>총합</td>\n",
       "      <td>465</td>\n",
       "      <td>63</td>\n",
       "      <td>31</td>\n",
       "      <td>58</td>\n",
       "      <td>3</td>\n",
       "      <td>620</td>\n",
       "      <td>0.750000</td>\n",
       "    </tr>\n",
       "  </tbody>\n",
       "</table>\n",
       "</div>"
      ],
      "text/plain": [
       "     월   출석  결석  지각  조퇴  지각&조퇴  출결총합       출석률\n",
       "0   8월   36   1   3   0      0    40  0.900000\n",
       "1   9월   81   4   2   7      1    95  0.852632\n",
       "2  10월   78   3   4  10      0    95  0.821053\n",
       "3  11월   77  11   4  17      1   110  0.700000\n",
       "4  12월   82  17   4   7      0   110  0.745455\n",
       "5   1월   68  14   8   9      1   100  0.680000\n",
       "6   2월   43  13   6   8      0    70  0.614286\n",
       "7   총합  465  63  31  58      3   620  0.750000"
      ]
     },
     "execution_count": 53,
     "metadata": {},
     "output_type": "execute_result"
    }
   ],
   "source": [
    "all_df = pd.DataFrame({\n",
    "    '월': months,\n",
    "    '출석': attcount,\n",
    "    '결석': notcount,\n",
    "    '지각': latecount,\n",
    "    '조퇴': outcount,\n",
    "    '지각&조퇴': excount,\n",
    "    '출결총합': sum_list,\n",
    "    '출석률': attendanceprob\n",
    "    \n",
    "})\n",
    "all_df"
   ]
  },
  {
   "cell_type": "code",
   "execution_count": 54,
   "metadata": {},
   "outputs": [],
   "source": [
    "all_df['출석률'] = all_df['출석률'] * 100\n",
    "all_df['출석률'] = all_df['출석률'].apply(lambda x: round(x,2))"
   ]
  },
  {
   "cell_type": "code",
   "execution_count": 55,
   "metadata": {},
   "outputs": [
    {
     "data": {
      "text/html": [
       "<div>\n",
       "<style scoped>\n",
       "    .dataframe tbody tr th:only-of-type {\n",
       "        vertical-align: middle;\n",
       "    }\n",
       "\n",
       "    .dataframe tbody tr th {\n",
       "        vertical-align: top;\n",
       "    }\n",
       "\n",
       "    .dataframe thead th {\n",
       "        text-align: right;\n",
       "    }\n",
       "</style>\n",
       "<table border=\"1\" class=\"dataframe\">\n",
       "  <thead>\n",
       "    <tr style=\"text-align: right;\">\n",
       "      <th></th>\n",
       "      <th>월</th>\n",
       "      <th>출석</th>\n",
       "      <th>결석</th>\n",
       "      <th>지각</th>\n",
       "      <th>조퇴</th>\n",
       "      <th>지각&amp;조퇴</th>\n",
       "      <th>출결총합</th>\n",
       "      <th>출석률</th>\n",
       "    </tr>\n",
       "  </thead>\n",
       "  <tbody>\n",
       "    <tr>\n",
       "      <th>0</th>\n",
       "      <td>8월</td>\n",
       "      <td>36</td>\n",
       "      <td>1</td>\n",
       "      <td>3</td>\n",
       "      <td>0</td>\n",
       "      <td>0</td>\n",
       "      <td>40</td>\n",
       "      <td>90.00</td>\n",
       "    </tr>\n",
       "    <tr>\n",
       "      <th>1</th>\n",
       "      <td>9월</td>\n",
       "      <td>81</td>\n",
       "      <td>4</td>\n",
       "      <td>2</td>\n",
       "      <td>7</td>\n",
       "      <td>1</td>\n",
       "      <td>95</td>\n",
       "      <td>85.26</td>\n",
       "    </tr>\n",
       "    <tr>\n",
       "      <th>2</th>\n",
       "      <td>10월</td>\n",
       "      <td>78</td>\n",
       "      <td>3</td>\n",
       "      <td>4</td>\n",
       "      <td>10</td>\n",
       "      <td>0</td>\n",
       "      <td>95</td>\n",
       "      <td>82.11</td>\n",
       "    </tr>\n",
       "    <tr>\n",
       "      <th>3</th>\n",
       "      <td>11월</td>\n",
       "      <td>77</td>\n",
       "      <td>11</td>\n",
       "      <td>4</td>\n",
       "      <td>17</td>\n",
       "      <td>1</td>\n",
       "      <td>110</td>\n",
       "      <td>70.00</td>\n",
       "    </tr>\n",
       "    <tr>\n",
       "      <th>4</th>\n",
       "      <td>12월</td>\n",
       "      <td>82</td>\n",
       "      <td>17</td>\n",
       "      <td>4</td>\n",
       "      <td>7</td>\n",
       "      <td>0</td>\n",
       "      <td>110</td>\n",
       "      <td>74.55</td>\n",
       "    </tr>\n",
       "    <tr>\n",
       "      <th>5</th>\n",
       "      <td>1월</td>\n",
       "      <td>68</td>\n",
       "      <td>14</td>\n",
       "      <td>8</td>\n",
       "      <td>9</td>\n",
       "      <td>1</td>\n",
       "      <td>100</td>\n",
       "      <td>68.00</td>\n",
       "    </tr>\n",
       "    <tr>\n",
       "      <th>6</th>\n",
       "      <td>2월</td>\n",
       "      <td>43</td>\n",
       "      <td>13</td>\n",
       "      <td>6</td>\n",
       "      <td>8</td>\n",
       "      <td>0</td>\n",
       "      <td>70</td>\n",
       "      <td>61.43</td>\n",
       "    </tr>\n",
       "    <tr>\n",
       "      <th>7</th>\n",
       "      <td>총합</td>\n",
       "      <td>465</td>\n",
       "      <td>63</td>\n",
       "      <td>31</td>\n",
       "      <td>58</td>\n",
       "      <td>3</td>\n",
       "      <td>620</td>\n",
       "      <td>75.00</td>\n",
       "    </tr>\n",
       "  </tbody>\n",
       "</table>\n",
       "</div>"
      ],
      "text/plain": [
       "     월   출석  결석  지각  조퇴  지각&조퇴  출결총합    출석률\n",
       "0   8월   36   1   3   0      0    40  90.00\n",
       "1   9월   81   4   2   7      1    95  85.26\n",
       "2  10월   78   3   4  10      0    95  82.11\n",
       "3  11월   77  11   4  17      1   110  70.00\n",
       "4  12월   82  17   4   7      0   110  74.55\n",
       "5   1월   68  14   8   9      1   100  68.00\n",
       "6   2월   43  13   6   8      0    70  61.43\n",
       "7   총합  465  63  31  58      3   620  75.00"
      ]
     },
     "execution_count": 55,
     "metadata": {},
     "output_type": "execute_result"
    }
   ],
   "source": [
    "all_df"
   ]
  },
  {
   "cell_type": "code",
   "execution_count": 56,
   "metadata": {},
   "outputs": [],
   "source": [
    "all_df.to_csv('완료데이터/월별출결.csv', encoding='cp949')"
   ]
  }
 ],
 "metadata": {
  "kernelspec": {
   "display_name": "base",
   "language": "python",
   "name": "python3"
  },
  "language_info": {
   "codemirror_mode": {
    "name": "ipython",
    "version": 3
   },
   "file_extension": ".py",
   "mimetype": "text/x-python",
   "name": "python",
   "nbconvert_exporter": "python",
   "pygments_lexer": "ipython3",
   "version": "3.9.13"
  },
  "orig_nbformat": 4,
  "vscode": {
   "interpreter": {
    "hash": "610a6f344c2137faf927ea819c63f6cee33a2c04455044b28099f39fe9722347"
   }
  }
 },
 "nbformat": 4,
 "nbformat_minor": 2
}
