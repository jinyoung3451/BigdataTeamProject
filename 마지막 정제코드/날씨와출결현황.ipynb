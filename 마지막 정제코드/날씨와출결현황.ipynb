{
 "cells": [
  {
   "cell_type": "code",
   "execution_count": 175,
   "metadata": {},
   "outputs": [],
   "source": [
    "import pandas as pd\n",
    "import numpy as np\n",
    "\n"
   ]
  },
  {
   "cell_type": "code",
   "execution_count": 176,
   "metadata": {},
   "outputs": [
    {
     "data": {
      "text/html": [
       "<div>\n",
       "<style scoped>\n",
       "    .dataframe tbody tr th:only-of-type {\n",
       "        vertical-align: middle;\n",
       "    }\n",
       "\n",
       "    .dataframe tbody tr th {\n",
       "        vertical-align: top;\n",
       "    }\n",
       "\n",
       "    .dataframe thead th {\n",
       "        text-align: right;\n",
       "    }\n",
       "</style>\n",
       "<table border=\"1\" class=\"dataframe\">\n",
       "  <thead>\n",
       "    <tr style=\"text-align: right;\">\n",
       "      <th></th>\n",
       "      <th>Date</th>\n",
       "      <th>Temp</th>\n",
       "      <th>Weather</th>\n",
       "      <th>ID_1</th>\n",
       "      <th>ID_2</th>\n",
       "      <th>ID_3</th>\n",
       "      <th>ID_4</th>\n",
       "      <th>ID_5</th>\n",
       "      <th>지각</th>\n",
       "      <th>조퇴</th>\n",
       "      <th>결석</th>\n",
       "      <th>지각&amp;조퇴</th>\n",
       "      <th>출석</th>\n",
       "    </tr>\n",
       "  </thead>\n",
       "  <tbody>\n",
       "    <tr>\n",
       "      <th>0</th>\n",
       "      <td>2022-08-22</td>\n",
       "      <td>25.7</td>\n",
       "      <td>맑음</td>\n",
       "      <td>출석</td>\n",
       "      <td>출석</td>\n",
       "      <td>출석</td>\n",
       "      <td>결석</td>\n",
       "      <td>출석</td>\n",
       "      <td>0</td>\n",
       "      <td>0</td>\n",
       "      <td>1</td>\n",
       "      <td>0</td>\n",
       "      <td>4</td>\n",
       "    </tr>\n",
       "    <tr>\n",
       "      <th>1</th>\n",
       "      <td>2022-08-23</td>\n",
       "      <td>27.0</td>\n",
       "      <td>비</td>\n",
       "      <td>출석</td>\n",
       "      <td>출석</td>\n",
       "      <td>출석</td>\n",
       "      <td>출석</td>\n",
       "      <td>출석</td>\n",
       "      <td>0</td>\n",
       "      <td>0</td>\n",
       "      <td>0</td>\n",
       "      <td>0</td>\n",
       "      <td>5</td>\n",
       "    </tr>\n",
       "    <tr>\n",
       "      <th>2</th>\n",
       "      <td>2022-08-24</td>\n",
       "      <td>22.5</td>\n",
       "      <td>비</td>\n",
       "      <td>출석</td>\n",
       "      <td>출석</td>\n",
       "      <td>출석</td>\n",
       "      <td>지각</td>\n",
       "      <td>지각</td>\n",
       "      <td>2</td>\n",
       "      <td>0</td>\n",
       "      <td>0</td>\n",
       "      <td>0</td>\n",
       "      <td>3</td>\n",
       "    </tr>\n",
       "    <tr>\n",
       "      <th>3</th>\n",
       "      <td>2022-08-25</td>\n",
       "      <td>24.2</td>\n",
       "      <td>맑음</td>\n",
       "      <td>출석</td>\n",
       "      <td>출석</td>\n",
       "      <td>출석</td>\n",
       "      <td>출석</td>\n",
       "      <td>출석</td>\n",
       "      <td>0</td>\n",
       "      <td>0</td>\n",
       "      <td>0</td>\n",
       "      <td>0</td>\n",
       "      <td>5</td>\n",
       "    </tr>\n",
       "    <tr>\n",
       "      <th>4</th>\n",
       "      <td>2022-08-26</td>\n",
       "      <td>25.1</td>\n",
       "      <td>맑음</td>\n",
       "      <td>출석</td>\n",
       "      <td>출석</td>\n",
       "      <td>출석</td>\n",
       "      <td>출석</td>\n",
       "      <td>출석</td>\n",
       "      <td>0</td>\n",
       "      <td>0</td>\n",
       "      <td>0</td>\n",
       "      <td>0</td>\n",
       "      <td>5</td>\n",
       "    </tr>\n",
       "    <tr>\n",
       "      <th>...</th>\n",
       "      <td>...</td>\n",
       "      <td>...</td>\n",
       "      <td>...</td>\n",
       "      <td>...</td>\n",
       "      <td>...</td>\n",
       "      <td>...</td>\n",
       "      <td>...</td>\n",
       "      <td>...</td>\n",
       "      <td>...</td>\n",
       "      <td>...</td>\n",
       "      <td>...</td>\n",
       "      <td>...</td>\n",
       "      <td>...</td>\n",
       "    </tr>\n",
       "    <tr>\n",
       "      <th>119</th>\n",
       "      <td>2023-02-14</td>\n",
       "      <td>6.1</td>\n",
       "      <td>맑음</td>\n",
       "      <td>지각</td>\n",
       "      <td>출석</td>\n",
       "      <td>출석</td>\n",
       "      <td>출석</td>\n",
       "      <td>결석</td>\n",
       "      <td>1</td>\n",
       "      <td>0</td>\n",
       "      <td>1</td>\n",
       "      <td>0</td>\n",
       "      <td>3</td>\n",
       "    </tr>\n",
       "    <tr>\n",
       "      <th>120</th>\n",
       "      <td>2023-02-15</td>\n",
       "      <td>3.8</td>\n",
       "      <td>맑음</td>\n",
       "      <td>출석</td>\n",
       "      <td>출석</td>\n",
       "      <td>출석</td>\n",
       "      <td>출석</td>\n",
       "      <td>지각</td>\n",
       "      <td>1</td>\n",
       "      <td>0</td>\n",
       "      <td>0</td>\n",
       "      <td>0</td>\n",
       "      <td>4</td>\n",
       "    </tr>\n",
       "    <tr>\n",
       "      <th>121</th>\n",
       "      <td>2023-02-16</td>\n",
       "      <td>5.9</td>\n",
       "      <td>맑음</td>\n",
       "      <td>출석</td>\n",
       "      <td>지각</td>\n",
       "      <td>조퇴</td>\n",
       "      <td>출석</td>\n",
       "      <td>출석</td>\n",
       "      <td>1</td>\n",
       "      <td>1</td>\n",
       "      <td>0</td>\n",
       "      <td>0</td>\n",
       "      <td>3</td>\n",
       "    </tr>\n",
       "    <tr>\n",
       "      <th>122</th>\n",
       "      <td>2023-02-17</td>\n",
       "      <td>7.3</td>\n",
       "      <td>맑음</td>\n",
       "      <td>출석</td>\n",
       "      <td>출석</td>\n",
       "      <td>출석</td>\n",
       "      <td>출석</td>\n",
       "      <td>출석</td>\n",
       "      <td>0</td>\n",
       "      <td>0</td>\n",
       "      <td>0</td>\n",
       "      <td>0</td>\n",
       "      <td>5</td>\n",
       "    </tr>\n",
       "    <tr>\n",
       "      <th>123</th>\n",
       "      <td>2023-02-20</td>\n",
       "      <td>4.5</td>\n",
       "      <td>맑음</td>\n",
       "      <td>출석</td>\n",
       "      <td>출석</td>\n",
       "      <td>출석</td>\n",
       "      <td>출석</td>\n",
       "      <td>출석</td>\n",
       "      <td>0</td>\n",
       "      <td>0</td>\n",
       "      <td>0</td>\n",
       "      <td>0</td>\n",
       "      <td>5</td>\n",
       "    </tr>\n",
       "  </tbody>\n",
       "</table>\n",
       "<p>124 rows × 13 columns</p>\n",
       "</div>"
      ],
      "text/plain": [
       "           Date  Temp Weather ID_1 ID_2 ID_3 ID_4 ID_5  지각  조퇴  결석  지각&조퇴  출석\n",
       "0    2022-08-22  25.7      맑음   출석   출석   출석   결석   출석   0   0   1      0   4\n",
       "1    2022-08-23  27.0       비   출석   출석   출석   출석   출석   0   0   0      0   5\n",
       "2    2022-08-24  22.5       비   출석   출석   출석   지각   지각   2   0   0      0   3\n",
       "3    2022-08-25  24.2      맑음   출석   출석   출석   출석   출석   0   0   0      0   5\n",
       "4    2022-08-26  25.1      맑음   출석   출석   출석   출석   출석   0   0   0      0   5\n",
       "..          ...   ...     ...  ...  ...  ...  ...  ...  ..  ..  ..    ...  ..\n",
       "119  2023-02-14   6.1      맑음   지각   출석   출석   출석   결석   1   0   1      0   3\n",
       "120  2023-02-15   3.8      맑음   출석   출석   출석   출석   지각   1   0   0      0   4\n",
       "121  2023-02-16   5.9      맑음   출석   지각   조퇴   출석   출석   1   1   0      0   3\n",
       "122  2023-02-17   7.3      맑음   출석   출석   출석   출석   출석   0   0   0      0   5\n",
       "123  2023-02-20   4.5      맑음   출석   출석   출석   출석   출석   0   0   0      0   5\n",
       "\n",
       "[124 rows x 13 columns]"
      ]
     },
     "execution_count": 176,
     "metadata": {},
     "output_type": "execute_result"
    }
   ],
   "source": [
    "WA2=pd.read_csv('정제데이터/날씨_출결현황_(지조별컬럼추가).csv',encoding='CP949')\n",
    "WA2"
   ]
  },
  {
   "cell_type": "code",
   "execution_count": 177,
   "metadata": {},
   "outputs": [
    {
     "data": {
      "text/plain": [
       "Date        object\n",
       "Temp       float64\n",
       "Weather     object\n",
       "ID_1        object\n",
       "ID_2        object\n",
       "ID_3        object\n",
       "ID_4        object\n",
       "ID_5        object\n",
       "지각           int64\n",
       "조퇴           int64\n",
       "결석           int64\n",
       "지각&조퇴        int64\n",
       "출석           int64\n",
       "dtype: object"
      ]
     },
     "execution_count": 177,
     "metadata": {},
     "output_type": "execute_result"
    }
   ],
   "source": [
    "WA2.dtypes"
   ]
  },
  {
   "cell_type": "code",
   "execution_count": 178,
   "metadata": {},
   "outputs": [
    {
     "data": {
      "text/html": [
       "<div>\n",
       "<style scoped>\n",
       "    .dataframe tbody tr th:only-of-type {\n",
       "        vertical-align: middle;\n",
       "    }\n",
       "\n",
       "    .dataframe tbody tr th {\n",
       "        vertical-align: top;\n",
       "    }\n",
       "\n",
       "    .dataframe thead th {\n",
       "        text-align: right;\n",
       "    }\n",
       "</style>\n",
       "<table border=\"1\" class=\"dataframe\">\n",
       "  <thead>\n",
       "    <tr style=\"text-align: right;\">\n",
       "      <th></th>\n",
       "      <th>Weather</th>\n",
       "      <th>지각</th>\n",
       "      <th>조퇴</th>\n",
       "      <th>결석</th>\n",
       "      <th>지각&amp;조퇴</th>\n",
       "      <th>출석</th>\n",
       "    </tr>\n",
       "  </thead>\n",
       "  <tbody>\n",
       "    <tr>\n",
       "      <th>0</th>\n",
       "      <td>맑음</td>\n",
       "      <td>0</td>\n",
       "      <td>0</td>\n",
       "      <td>1</td>\n",
       "      <td>0</td>\n",
       "      <td>4</td>\n",
       "    </tr>\n",
       "    <tr>\n",
       "      <th>1</th>\n",
       "      <td>비</td>\n",
       "      <td>0</td>\n",
       "      <td>0</td>\n",
       "      <td>0</td>\n",
       "      <td>0</td>\n",
       "      <td>5</td>\n",
       "    </tr>\n",
       "    <tr>\n",
       "      <th>2</th>\n",
       "      <td>비</td>\n",
       "      <td>2</td>\n",
       "      <td>0</td>\n",
       "      <td>0</td>\n",
       "      <td>0</td>\n",
       "      <td>3</td>\n",
       "    </tr>\n",
       "    <tr>\n",
       "      <th>3</th>\n",
       "      <td>맑음</td>\n",
       "      <td>0</td>\n",
       "      <td>0</td>\n",
       "      <td>0</td>\n",
       "      <td>0</td>\n",
       "      <td>5</td>\n",
       "    </tr>\n",
       "    <tr>\n",
       "      <th>4</th>\n",
       "      <td>맑음</td>\n",
       "      <td>0</td>\n",
       "      <td>0</td>\n",
       "      <td>0</td>\n",
       "      <td>0</td>\n",
       "      <td>5</td>\n",
       "    </tr>\n",
       "    <tr>\n",
       "      <th>...</th>\n",
       "      <td>...</td>\n",
       "      <td>...</td>\n",
       "      <td>...</td>\n",
       "      <td>...</td>\n",
       "      <td>...</td>\n",
       "      <td>...</td>\n",
       "    </tr>\n",
       "    <tr>\n",
       "      <th>119</th>\n",
       "      <td>맑음</td>\n",
       "      <td>1</td>\n",
       "      <td>0</td>\n",
       "      <td>1</td>\n",
       "      <td>0</td>\n",
       "      <td>3</td>\n",
       "    </tr>\n",
       "    <tr>\n",
       "      <th>120</th>\n",
       "      <td>맑음</td>\n",
       "      <td>1</td>\n",
       "      <td>0</td>\n",
       "      <td>0</td>\n",
       "      <td>0</td>\n",
       "      <td>4</td>\n",
       "    </tr>\n",
       "    <tr>\n",
       "      <th>121</th>\n",
       "      <td>맑음</td>\n",
       "      <td>1</td>\n",
       "      <td>1</td>\n",
       "      <td>0</td>\n",
       "      <td>0</td>\n",
       "      <td>3</td>\n",
       "    </tr>\n",
       "    <tr>\n",
       "      <th>122</th>\n",
       "      <td>맑음</td>\n",
       "      <td>0</td>\n",
       "      <td>0</td>\n",
       "      <td>0</td>\n",
       "      <td>0</td>\n",
       "      <td>5</td>\n",
       "    </tr>\n",
       "    <tr>\n",
       "      <th>123</th>\n",
       "      <td>맑음</td>\n",
       "      <td>0</td>\n",
       "      <td>0</td>\n",
       "      <td>0</td>\n",
       "      <td>0</td>\n",
       "      <td>5</td>\n",
       "    </tr>\n",
       "  </tbody>\n",
       "</table>\n",
       "<p>124 rows × 6 columns</p>\n",
       "</div>"
      ],
      "text/plain": [
       "    Weather  지각  조퇴  결석  지각&조퇴  출석\n",
       "0        맑음   0   0   1      0   4\n",
       "1         비   0   0   0      0   5\n",
       "2         비   2   0   0      0   3\n",
       "3        맑음   0   0   0      0   5\n",
       "4        맑음   0   0   0      0   5\n",
       "..      ...  ..  ..  ..    ...  ..\n",
       "119      맑음   1   0   1      0   3\n",
       "120      맑음   1   0   0      0   4\n",
       "121      맑음   1   1   0      0   3\n",
       "122      맑음   0   0   0      0   5\n",
       "123      맑음   0   0   0      0   5\n",
       "\n",
       "[124 rows x 6 columns]"
      ]
     },
     "execution_count": 178,
     "metadata": {},
     "output_type": "execute_result"
    }
   ],
   "source": [
    "# ID_1 ~ ID_5, Date, Temp 드랍\n",
    "WA2=WA2.drop(columns=['ID_1','ID_2','ID_3','ID_4','ID_5','Date','Temp'])\n",
    "WA2"
   ]
  },
  {
   "attachments": {},
   "cell_type": "markdown",
   "metadata": {},
   "source": [
    "날씨: 맑음"
   ]
  },
  {
   "cell_type": "code",
   "execution_count": 179,
   "metadata": {},
   "outputs": [
    {
     "data": {
      "text/plain": [
       "25"
      ]
     },
     "execution_count": 179,
     "metadata": {},
     "output_type": "execute_result"
    }
   ],
   "source": [
    "# 날씨: 맑음 , 출결: 지각\n",
    "filtered=WA2[WA2['Weather']=='맑음']\n",
    "\n",
    "s_late=filtered['지각'].sum()\n",
    "s_late\n"
   ]
  },
  {
   "cell_type": "code",
   "execution_count": 180,
   "metadata": {},
   "outputs": [
    {
     "data": {
      "text/plain": [
       "50"
      ]
     },
     "execution_count": 180,
     "metadata": {},
     "output_type": "execute_result"
    }
   ],
   "source": [
    "# 날씨: 맑음 , 출결: 조퇴\n",
    "s_early=filtered['조퇴'].sum()\n",
    "s_early"
   ]
  },
  {
   "cell_type": "code",
   "execution_count": 181,
   "metadata": {},
   "outputs": [
    {
     "data": {
      "text/plain": [
       "44"
      ]
     },
     "execution_count": 181,
     "metadata": {},
     "output_type": "execute_result"
    }
   ],
   "source": [
    "# 날씨: 맑음 , 출결: 결석\n",
    "s_absent=filtered['결석'].sum()\n",
    "s_absent\n"
   ]
  },
  {
   "cell_type": "code",
   "execution_count": 182,
   "metadata": {},
   "outputs": [
    {
     "data": {
      "text/plain": [
       "2"
      ]
     },
     "execution_count": 182,
     "metadata": {},
     "output_type": "execute_result"
    }
   ],
   "source": [
    "# 날씨: 맑음 , 출결: 지각&조퇴\n",
    "s_late_ear=filtered['지각&조퇴'].sum()\n",
    "s_late_ear\n",
    "# s_late_ear=filtered['출석'].sum()\n"
   ]
  },
  {
   "attachments": {},
   "cell_type": "markdown",
   "metadata": {},
   "source": [
    "날씨: 비"
   ]
  },
  {
   "cell_type": "code",
   "execution_count": 183,
   "metadata": {},
   "outputs": [
    {
     "data": {
      "text/plain": [
       "5"
      ]
     },
     "execution_count": 183,
     "metadata": {},
     "output_type": "execute_result"
    }
   ],
   "source": [
    "# 날씨: 비 , 출결: 지각\n",
    "filtered=WA2[WA2['Weather']=='비']\n",
    "r_late=filtered['지각'].sum()\n",
    "r_late\n"
   ]
  },
  {
   "cell_type": "code",
   "execution_count": 184,
   "metadata": {},
   "outputs": [
    {
     "data": {
      "text/plain": [
       "5"
      ]
     },
     "execution_count": 184,
     "metadata": {},
     "output_type": "execute_result"
    }
   ],
   "source": [
    "# 날씨: 비 , 출결: 조퇴\n",
    "r_early=filtered['조퇴'].sum()\n",
    "r_early"
   ]
  },
  {
   "cell_type": "code",
   "execution_count": 185,
   "metadata": {},
   "outputs": [
    {
     "data": {
      "text/plain": [
       "11"
      ]
     },
     "execution_count": 185,
     "metadata": {},
     "output_type": "execute_result"
    }
   ],
   "source": [
    "# 날씨: 비 , 출결: 결석\n",
    "r_absent=filtered['결석'].sum()\n",
    "r_absent"
   ]
  },
  {
   "cell_type": "code",
   "execution_count": 186,
   "metadata": {},
   "outputs": [
    {
     "data": {
      "text/plain": [
       "1"
      ]
     },
     "execution_count": 186,
     "metadata": {},
     "output_type": "execute_result"
    }
   ],
   "source": [
    "# 날씨: 비 , 출결: 지각&조퇴\n",
    "r_late_ear=filtered['지각&조퇴'].sum()\n",
    "r_late_ear"
   ]
  },
  {
   "attachments": {},
   "cell_type": "markdown",
   "metadata": {},
   "source": [
    "날씨: 한파"
   ]
  },
  {
   "cell_type": "code",
   "execution_count": 187,
   "metadata": {},
   "outputs": [
    {
     "data": {
      "text/plain": [
       "1"
      ]
     },
     "execution_count": 187,
     "metadata": {},
     "output_type": "execute_result"
    }
   ],
   "source": [
    "# 날씨: 한파 , 출결: 지각\n",
    "filtered=WA2[WA2['Weather']=='한파']\n",
    "c_late=filtered['지각'].sum()\n",
    "c_late"
   ]
  },
  {
   "cell_type": "code",
   "execution_count": 188,
   "metadata": {},
   "outputs": [
    {
     "data": {
      "text/plain": [
       "3"
      ]
     },
     "execution_count": 188,
     "metadata": {},
     "output_type": "execute_result"
    }
   ],
   "source": [
    "# 날씨: 한파 , 출결: 조퇴\n",
    "c_early=filtered['조퇴'].sum()\n",
    "c_early"
   ]
  },
  {
   "cell_type": "code",
   "execution_count": 189,
   "metadata": {},
   "outputs": [
    {
     "data": {
      "text/plain": [
       "8"
      ]
     },
     "execution_count": 189,
     "metadata": {},
     "output_type": "execute_result"
    }
   ],
   "source": [
    "# 날씨: 한파 , 출결: 결석\n",
    "c_absent=filtered['결석'].sum()\n",
    "c_absent"
   ]
  },
  {
   "cell_type": "code",
   "execution_count": 190,
   "metadata": {},
   "outputs": [
    {
     "data": {
      "text/plain": [
       "0"
      ]
     },
     "execution_count": 190,
     "metadata": {},
     "output_type": "execute_result"
    }
   ],
   "source": [
    "# 날씨: 한파 , 출결: 지각&조퇴\n",
    "c_late_ear=filtered['지각&조퇴'].sum()\n",
    "c_late_ear"
   ]
  },
  {
   "attachments": {},
   "cell_type": "markdown",
   "metadata": {},
   "source": [
    "합계"
   ]
  },
  {
   "cell_type": "code",
   "execution_count": 191,
   "metadata": {},
   "outputs": [
    {
     "data": {
      "text/plain": [
       "31"
      ]
     },
     "execution_count": 191,
     "metadata": {},
     "output_type": "execute_result"
    }
   ],
   "source": [
    "# 지각 합계 구하기\n",
    "sum_late = s_late + r_late + c_late\n",
    "sum_late\n"
   ]
  },
  {
   "cell_type": "code",
   "execution_count": 192,
   "metadata": {},
   "outputs": [
    {
     "data": {
      "text/plain": [
       "58"
      ]
     },
     "execution_count": 192,
     "metadata": {},
     "output_type": "execute_result"
    }
   ],
   "source": [
    "# 조퇴 합계 구하기\n",
    "sum_early = s_early + r_early + c_early\n",
    "sum_early"
   ]
  },
  {
   "cell_type": "code",
   "execution_count": 193,
   "metadata": {},
   "outputs": [
    {
     "data": {
      "text/plain": [
       "63"
      ]
     },
     "execution_count": 193,
     "metadata": {},
     "output_type": "execute_result"
    }
   ],
   "source": [
    "# 결석 합계 구하기\n",
    "sum_absent = s_absent + r_absent + c_absent\n",
    "sum_absent"
   ]
  },
  {
   "cell_type": "code",
   "execution_count": 194,
   "metadata": {},
   "outputs": [
    {
     "data": {
      "text/plain": [
       "3"
      ]
     },
     "execution_count": 194,
     "metadata": {},
     "output_type": "execute_result"
    }
   ],
   "source": [
    "# 지각 & 조퇴 합계 구하기\n",
    "sum_late_early = s_late_ear + r_late_ear + c_late_ear\n",
    "sum_late_early"
   ]
  },
  {
   "cell_type": "code",
   "execution_count": 195,
   "metadata": {},
   "outputs": [
    {
     "data": {
      "text/plain": [
       "34"
      ]
     },
     "execution_count": 195,
     "metadata": {},
     "output_type": "execute_result"
    }
   ],
   "source": [
    "# 비 & 한파 합\n",
    "# 지각 \n",
    "sum_rc_late=r_late+c_late\n",
    "\n",
    "# 조퇴\n",
    "sum_rc_early=r_early+c_early\n",
    "\n",
    "# 결석\n",
    "sum_rc_absent=r_absent+c_absent\n",
    "\n",
    "# 지각&조퇴\n",
    "sum_rc_le=r_late_ear+c_late_ear\n",
    "\n",
    "# 비&한파 합계 구하기\n",
    "rain_cold=sum_rc_late+sum_rc_early+sum_rc_absent+sum_rc_le\n",
    "rain_cold\n"
   ]
  },
  {
   "cell_type": "code",
   "execution_count": 196,
   "metadata": {},
   "outputs": [
    {
     "data": {
      "text/html": [
       "<div>\n",
       "<style scoped>\n",
       "    .dataframe tbody tr th:only-of-type {\n",
       "        vertical-align: middle;\n",
       "    }\n",
       "\n",
       "    .dataframe tbody tr th {\n",
       "        vertical-align: top;\n",
       "    }\n",
       "\n",
       "    .dataframe thead th {\n",
       "        text-align: right;\n",
       "    }\n",
       "</style>\n",
       "<table border=\"1\" class=\"dataframe\">\n",
       "  <thead>\n",
       "    <tr style=\"text-align: right;\">\n",
       "      <th></th>\n",
       "      <th>구분</th>\n",
       "      <th>지각</th>\n",
       "      <th>조퇴</th>\n",
       "      <th>결석</th>\n",
       "      <th>지각&amp;조퇴</th>\n",
       "    </tr>\n",
       "  </thead>\n",
       "  <tbody>\n",
       "    <tr>\n",
       "      <th>0</th>\n",
       "      <td>맑음</td>\n",
       "      <td>25</td>\n",
       "      <td>50</td>\n",
       "      <td>44</td>\n",
       "      <td>2</td>\n",
       "    </tr>\n",
       "    <tr>\n",
       "      <th>1</th>\n",
       "      <td>비</td>\n",
       "      <td>5</td>\n",
       "      <td>5</td>\n",
       "      <td>11</td>\n",
       "      <td>1</td>\n",
       "    </tr>\n",
       "    <tr>\n",
       "      <th>2</th>\n",
       "      <td>한파</td>\n",
       "      <td>1</td>\n",
       "      <td>3</td>\n",
       "      <td>8</td>\n",
       "      <td>0</td>\n",
       "    </tr>\n",
       "    <tr>\n",
       "      <th>3</th>\n",
       "      <td>비&amp;한파 합계</td>\n",
       "      <td>6</td>\n",
       "      <td>8</td>\n",
       "      <td>19</td>\n",
       "      <td>1</td>\n",
       "    </tr>\n",
       "    <tr>\n",
       "      <th>4</th>\n",
       "      <td>총합</td>\n",
       "      <td>31</td>\n",
       "      <td>58</td>\n",
       "      <td>63</td>\n",
       "      <td>3</td>\n",
       "    </tr>\n",
       "  </tbody>\n",
       "</table>\n",
       "</div>"
      ],
      "text/plain": [
       "        구분  지각  조퇴  결석  지각&조퇴\n",
       "0       맑음  25  50  44      2\n",
       "1        비   5   5  11      1\n",
       "2       한파   1   3   8      0\n",
       "3  비&한파 합계   6   8  19      1\n",
       "4       총합  31  58  63      3"
      ]
     },
     "execution_count": 196,
     "metadata": {},
     "output_type": "execute_result"
    }
   ],
   "source": [
    "# DataFrame 생성\n",
    "data={'구분':['맑음','비','한파','비&한파 합계','총합'],\n",
    "      '지각':[s_late,r_late,c_late,sum_rc_late,sum_late],\n",
    "      '조퇴':[s_early,r_early,c_early,sum_rc_early,sum_early],\n",
    "      '결석':[s_absent,r_absent,c_absent,sum_rc_absent,sum_absent],\n",
    "      '지각&조퇴':[s_late_ear,r_late_ear,c_late_ear,sum_rc_le,sum_late_early]}\n",
    "\n",
    "sep_sum=pd.DataFrame(data)\n",
    "sep_sum\n",
    "     "
   ]
  },
  {
   "cell_type": "code",
   "execution_count": 197,
   "metadata": {},
   "outputs": [
    {
     "data": {
      "text/html": [
       "<div>\n",
       "<style scoped>\n",
       "    .dataframe tbody tr th:only-of-type {\n",
       "        vertical-align: middle;\n",
       "    }\n",
       "\n",
       "    .dataframe tbody tr th {\n",
       "        vertical-align: top;\n",
       "    }\n",
       "\n",
       "    .dataframe thead th {\n",
       "        text-align: right;\n",
       "    }\n",
       "</style>\n",
       "<table border=\"1\" class=\"dataframe\">\n",
       "  <thead>\n",
       "    <tr style=\"text-align: right;\">\n",
       "      <th></th>\n",
       "      <th>구분</th>\n",
       "      <th>맑음</th>\n",
       "      <th>비</th>\n",
       "      <th>한파</th>\n",
       "      <th>비&amp;한파 합계</th>\n",
       "      <th>총합</th>\n",
       "    </tr>\n",
       "  </thead>\n",
       "  <tbody>\n",
       "    <tr>\n",
       "      <th>0</th>\n",
       "      <td>지각</td>\n",
       "      <td>25</td>\n",
       "      <td>5</td>\n",
       "      <td>1</td>\n",
       "      <td>6</td>\n",
       "      <td>31</td>\n",
       "    </tr>\n",
       "    <tr>\n",
       "      <th>1</th>\n",
       "      <td>조퇴</td>\n",
       "      <td>50</td>\n",
       "      <td>5</td>\n",
       "      <td>3</td>\n",
       "      <td>8</td>\n",
       "      <td>58</td>\n",
       "    </tr>\n",
       "    <tr>\n",
       "      <th>2</th>\n",
       "      <td>결석</td>\n",
       "      <td>44</td>\n",
       "      <td>11</td>\n",
       "      <td>8</td>\n",
       "      <td>19</td>\n",
       "      <td>63</td>\n",
       "    </tr>\n",
       "    <tr>\n",
       "      <th>3</th>\n",
       "      <td>지각&amp;조퇴</td>\n",
       "      <td>2</td>\n",
       "      <td>1</td>\n",
       "      <td>0</td>\n",
       "      <td>1</td>\n",
       "      <td>3</td>\n",
       "    </tr>\n",
       "  </tbody>\n",
       "</table>\n",
       "</div>"
      ],
      "text/plain": [
       "      구분  맑음   비  한파  비&한파 합계  총합\n",
       "0     지각  25   5   1        6  31\n",
       "1     조퇴  50   5   3        8  58\n",
       "2     결석  44  11   8       19  63\n",
       "3  지각&조퇴   2   1   0        1   3"
      ]
     },
     "execution_count": 197,
     "metadata": {},
     "output_type": "execute_result"
    }
   ],
   "source": [
    "# 행,열 변경\n",
    "sep_sum = sep_sum.rename(columns={'구분': 'index'})\n",
    "sep_sum = sep_sum.set_index('index').transpose().reset_index()\n",
    "\n",
    "\n",
    "\n",
    "sep_sum = sep_sum.set_axis(['구분', '맑음', '비', '한파', '비&한파 합계', '총합'], axis=1)\n",
    "sep_sum"
   ]
  },
  {
   "cell_type": "code",
   "execution_count": 198,
   "metadata": {},
   "outputs": [],
   "source": [
    "# csv 저장\n",
    "sep_sum.to_csv('완료데이터/날씨와출결현황.csv',index=False , encoding='CP949')"
   ]
  }
 ],
 "metadata": {
  "kernelspec": {
   "display_name": "Python 3",
   "language": "python",
   "name": "python3"
  },
  "language_info": {
   "codemirror_mode": {
    "name": "ipython",
    "version": 3
   },
   "file_extension": ".py",
   "mimetype": "text/x-python",
   "name": "python",
   "nbconvert_exporter": "python",
   "pygments_lexer": "ipython3",
   "version": "3.9.13"
  },
  "orig_nbformat": 4
 },
 "nbformat": 4,
 "nbformat_minor": 2
}
